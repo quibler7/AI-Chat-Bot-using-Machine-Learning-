{
 "cells": [
  {
   "cell_type": "markdown",
   "id": "003dc18b",
   "metadata": {},
   "source": [
    "AI ChatBot using Machine Learning "
   ]
  },
  {
   "cell_type": "code",
   "execution_count": 20,
   "id": "e12344a0",
   "metadata": {},
   "outputs": [
    {
     "name": "stderr",
     "output_type": "stream",
     "text": [
      "[nltk_data] Downloading package averaged_perceptron_tagger to\n",
      "[nltk_data]     /Users/chaitanyjadhav/nltk_data...\n",
      "[nltk_data]   Package averaged_perceptron_tagger is already up-to-\n",
      "[nltk_data]       date!\n",
      "[nltk_data] Downloading package punkt to\n",
      "[nltk_data]     /Users/chaitanyjadhav/nltk_data...\n",
      "[nltk_data]   Package punkt is already up-to-date!\n",
      "[nltk_data] Downloading package stopwords to\n",
      "[nltk_data]     /Users/chaitanyjadhav/nltk_data...\n",
      "[nltk_data]   Package stopwords is already up-to-date!\n"
     ]
    }
   ],
   "source": [
    "# importing the required modules  \n",
    "from chatterbot import ChatBot  \n",
    "from chatterbot.trainers import ListTrainer  \n",
    "from chatterbot.trainers import ChatterBotCorpusTrainer \n",
    "\n",
    "#ignore warnings \n",
    "import warnings\n",
    "warnings.filterwarnings('ignore')\n",
    "\n",
    "# creating a chatbot  \n",
    "myBot = ChatBot(  \n",
    "    name = 'quibler',  \n",
    "    read_only = True,  \n",
    "    logic_adapters = [  \n",
    "        'chatterbot.logic.MathematicalEvaluation',  \n",
    "        'chatterbot.logic.BestMatch'  \n",
    "        ]  \n",
    "        )  "
   ]
  },
  {
   "cell_type": "code",
   "execution_count": 21,
   "id": "dd7663b1",
   "metadata": {},
   "outputs": [],
   "source": [
    "# training the chatbot  \n",
    "small_convo = [  \n",
    "    'Hi there!',  \n",
    "    'Hi',  \n",
    "    'How do you do?',  \n",
    "    'How are you?',  \n",
    "    'I\\'m cool.',  \n",
    "    'Always cool.',  \n",
    "    'I\\'m Okay',  \n",
    "    'Glad to hear that.',  \n",
    "    'I\\'m fine',  \n",
    "    'I feel awesome',  \n",
    "    'Excellent, glad to hear that.',  \n",
    "    'Not so good',  \n",
    "    'Sorry to hear that.',  \n",
    "    'What\\'s your name?',  \n",
    "    ' I\\'m quibler. Ask me a math question, please.'  \n",
    "    ]  \n",
    "  \n",
    "math_convo_1 = [  \n",
    "    'Pythagorean theorem',  \n",
    "    'a squared plus b squared equals c squared.'  \n",
    "    ]  \n",
    "  \n",
    "math_convo_2 = [  \n",
    "    'Law of Cosines',  \n",
    "    'c**2 = a**2 + b**2 - 2*a*b*cos(gamma)'  \n",
    "    ]  \n"
   ]
  },
  {
   "cell_type": "code",
   "execution_count": null,
   "id": "0d01e7e5",
   "metadata": {},
   "outputs": [],
   "source": [
    "# using the ListTrainer class  \n",
    "list_trainee = ListTrainer(myBot)  \n",
    "for i in (small_convo, math_convo_1, math_convo_2):  \n",
    "    list_trainee.train(i)  \n",
    "  \n",
    "# using the ChatterBotCorpusTrainer class  \n",
    "corpus_trainee = ChatterBotCorpusTrainer(myBot)  \n",
    "corpus_trainee.train('chatterbot.corpus.english') "
   ]
  },
  {
   "cell_type": "code",
   "execution_count": null,
   "id": "463fc214",
   "metadata": {},
   "outputs": [],
   "source": [
    "Lets Ask some questions to out Chat Bot : - \n"
   ]
  },
  {
   "cell_type": "code",
   "execution_count": 22,
   "id": "3d6ad1e7",
   "metadata": {},
   "outputs": [
    {
     "name": "stdout",
     "output_type": "stream",
     "text": [
      "Hi\n"
     ]
    }
   ],
   "source": [
    "print(myBot.get_response(\"Hi, there!\"))\n"
   ]
  },
  {
   "cell_type": "code",
   "execution_count": 23,
   "id": "40faf5bc",
   "metadata": {},
   "outputs": [
    {
     "name": "stdout",
     "output_type": "stream",
     "text": [
      "I'm quibler. Ask me a math question, please.\n"
     ]
    }
   ],
   "source": [
    "print(myBot.get_response(\"What's your name?\"))"
   ]
  },
  {
   "cell_type": "code",
   "execution_count": 24,
   "id": "1b39f613",
   "metadata": {},
   "outputs": [
    {
     "name": "stdout",
     "output_type": "stream",
     "text": [
      "a squared plus b squared equals c squared.\n"
     ]
    }
   ],
   "source": [
    "print(myBot.get_response(\"Do you know Pythagorean theorem\"))"
   ]
  },
  {
   "cell_type": "code",
   "execution_count": 25,
   "id": "ecb8e434",
   "metadata": {},
   "outputs": [
    {
     "name": "stdout",
     "output_type": "stream",
     "text": [
      "c**2 = a**2 + b**2 - 2*a*b*cos(gamma)\n"
     ]
    }
   ],
   "source": [
    "print(myBot.get_response(\"Tell me the formula of law of cosines\"))"
   ]
  },
  {
   "cell_type": "code",
   "execution_count": null,
   "id": "891f3655",
   "metadata": {},
   "outputs": [],
   "source": []
  }
 ],
 "metadata": {
  "kernelspec": {
   "display_name": "Python 3 (ipykernel)",
   "language": "python",
   "name": "python3"
  },
  "language_info": {
   "codemirror_mode": {
    "name": "ipython",
    "version": 3
   },
   "file_extension": ".py",
   "mimetype": "text/x-python",
   "name": "python",
   "nbconvert_exporter": "python",
   "pygments_lexer": "ipython3",
   "version": "3.9.13"
  }
 },
 "nbformat": 4,
 "nbformat_minor": 5
}
